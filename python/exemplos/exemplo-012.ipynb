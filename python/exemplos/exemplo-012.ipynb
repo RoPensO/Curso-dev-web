{
 "cells": [
  {
   "cell_type": "code",
   "execution_count": 6,
   "metadata": {},
   "outputs": [
    {
     "name": "stdout",
     "output_type": "stream",
     "text": [
      "['hamburguer', 'pizza', 'sorvete', 'pudim']\n",
      "['hamburguer', 'pizza', 'sorvete', 'pudim', 'suco']\n",
      "['hamburguer', 'cachorro-quente', 'pizza', 'sorvete', 'pudim', 'suco']\n",
      "['hamburguer', 'pizza', 'sorvete', 'pudim', 'suco']\n",
      "['hamburguer', 'pizza', 'pudim', 'sorvete', 'suco']\n",
      "['suco', 'sorvete', 'pudim', 'pizza', 'hamburguer']\n",
      "5\n"
     ]
    }
   ],
   "source": [
    "lanches = [ 'hamburguer', 'pizza', 'sorvete', 'pudim']\n",
    "print(lanches)\n",
    "\n",
    "lanches.append('suco')\n",
    "print(lanches)\n",
    "\n",
    "lanches.insert(1,'cachorro-quente')\n",
    "print(lanches)\n",
    "\n",
    "if 'cachorro-quente' in lanches:\n",
    "    lanches.remove('cachorro-quente')\n",
    "print(lanches)\n",
    "\n",
    "lanches.sort()\n",
    "print(lanches)\n",
    "\n",
    "lanches.sort(reverse=True)\n",
    "print(lanches)\n",
    "\n",
    "print(len(lanches))"
   ]
  },
  {
   "cell_type": "code",
   "execution_count": 7,
   "metadata": {},
   "outputs": [
    {
     "name": "stdout",
     "output_type": "stream",
     "text": [
      "O número 2 está na 1ª posição da lista!\n",
      "O número 4 está na 2ª posição da lista!\n",
      "O número 5 está na 3ª posição da lista!\n",
      "O número 8 está na 4ª posição da lista!\n",
      "Fim da lista\n"
     ]
    }
   ],
   "source": [
    "valores = []\n",
    "valores.append(2)\n",
    "valores.append(4)\n",
    "valores.append(5)\n",
    "valores.append(8)\n",
    "\n",
    "for c, v in enumerate(valores):\n",
    "    print(f'O número {v} está na {c+1}ª posição da lista!')\n",
    "print('Fim da lista')"
   ]
  },
  {
   "cell_type": "code",
   "execution_count": 8,
   "metadata": {},
   "outputs": [
    {
     "name": "stdout",
     "output_type": "stream",
     "text": [
      "O número 1 está na 1ª posição da lista!\n",
      "O número 2 está na 2ª posição da lista!\n",
      "O número 3 está na 3ª posição da lista!\n",
      "O número 4 está na 4ª posição da lista!\n",
      "O número 5 está na 5ª posição da lista!\n",
      "Fim da lista\n"
     ]
    }
   ],
   "source": [
    "numeros = []\n",
    "\n",
    "for cont in range(0, 5):\n",
    "    numeros.append(int(input('Digite um número: ')))\n",
    "\n",
    "for c, v in enumerate(numeros):\n",
    "    print(f'O número {v} está na {c+1}ª posição da lista!')\n",
    "print('Fim da lista')"
   ]
  },
  {
   "cell_type": "code",
   "execution_count": 9,
   "metadata": {},
   "outputs": [
    {
     "name": "stdout",
     "output_type": "stream",
     "text": [
      "A lista a tem os valores: [3, 5, 7, 8]\n",
      "A lista b tem os valores: [3, 5, 7, 8]\n"
     ]
    }
   ],
   "source": [
    "a1 = [3,5,6,8]\n",
    "b1 = a1\n",
    "a1[2] = 7\n",
    "\n",
    "print(f'A lista a tem os valores: {a1}')\n",
    "print(f'A lista b tem os valores: {b1}')\n",
    "\n",
    "#ambas as listas são interligadas"
   ]
  },
  {
   "cell_type": "code",
   "execution_count": 10,
   "metadata": {},
   "outputs": [
    {
     "name": "stdout",
     "output_type": "stream",
     "text": [
      "A lista a tem os valores: [3, 5, 7, 8]\n",
      "A lista b tem os valores: [3, 5, 6, 8]\n"
     ]
    }
   ],
   "source": [
    "a2 = [3,5,6,8]\n",
    "b2 = a2[:]\n",
    "# a lista b recebe uma CÓPIA dos valores da lista a, portanto qualquer modificação na lista b só afeta ela e não a lista a\n",
    "a2[2] = 7\n",
    "\n",
    "print(f'A lista a tem os valores: {a2}')\n",
    "print(f'A lista b tem os valores: {b2}')"
   ]
  }
 ],
 "metadata": {
  "kernelspec": {
   "display_name": "Python 3",
   "language": "python",
   "name": "python3"
  },
  "language_info": {
   "codemirror_mode": {
    "name": "ipython",
    "version": 3
   },
   "file_extension": ".py",
   "mimetype": "text/x-python",
   "name": "python",
   "nbconvert_exporter": "python",
   "pygments_lexer": "ipython3",
   "version": "3.11.2"
  },
  "orig_nbformat": 4
 },
 "nbformat": 4,
 "nbformat_minor": 2
}
