{
 "cells": [
  {
   "cell_type": "code",
   "execution_count": 9,
   "metadata": {},
   "outputs": [
    {
     "name": "stdout",
     "output_type": "stream",
     "text": [
      "pedro\n"
     ]
    }
   ],
   "source": [
    "pessoas = [['pedro', 25],['maria', 19],['joão', 32]]\n",
    "print(pessoas[0][0])"
   ]
  },
  {
   "cell_type": "code",
   "execution_count": 10,
   "metadata": {},
   "outputs": [
    {
     "name": "stdout",
     "output_type": "stream",
     "text": [
      "rodolfo é maior de idade\n",
      "maria é maior de idade\n",
      "ivy é menor de idade\n",
      "temos 2 maiores de idade e 1 menores de idade\n"
     ]
    }
   ],
   "source": [
    "galera = []\n",
    "dado = []\n",
    "\n",
    "totmaior = totmenor = 0\n",
    "for c in range(0,3):\n",
    "    dado.append(str(input('nome: ')))\n",
    "    dado.append(int(input('idade: ')))\n",
    "    galera.append(dado[:])\n",
    "    dado.clear()\n",
    "    \n",
    "for p in galera:\n",
    "    if p[1] >= 18:\n",
    "        print(f'{p[0]} é maior de idade')\n",
    "        totmaior += 1\n",
    "    else:\n",
    "        print(f'{p[0]} é menor de idade')\n",
    "        totmenor += 1\n",
    "\n",
    "print(f'temos {totmaior} maiores de idade e {totmenor} menores de idade')\n"
   ]
  }
 ],
 "metadata": {
  "kernelspec": {
   "display_name": "Python 3",
   "language": "python",
   "name": "python3"
  },
  "language_info": {
   "codemirror_mode": {
    "name": "ipython",
    "version": 3
   },
   "file_extension": ".py",
   "mimetype": "text/x-python",
   "name": "python",
   "nbconvert_exporter": "python",
   "pygments_lexer": "ipython3",
   "version": "3.10.12"
  },
  "orig_nbformat": 4
 },
 "nbformat": 4,
 "nbformat_minor": 2
}
