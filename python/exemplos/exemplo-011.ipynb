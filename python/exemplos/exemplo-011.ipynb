{
 "cells": [
  {
   "cell_type": "code",
   "execution_count": 10,
   "metadata": {},
   "outputs": [
    {
     "name": "stdout",
     "output_type": "stream",
     "text": [
      "hoje eu vou comer hamburguer\n",
      "hoje eu vou comer suco\n",
      "hoje eu vou comer pizza\n",
      "hoje eu vou comer pudim\n",
      "hoje eu vou comer batata frita\n"
     ]
    }
   ],
   "source": [
    "lanche = 'hamburguer', 'suco', 'pizza', 'pudim', 'batata frita' # pode-se usar o com ou sem parenteses que as tuplas funcionam normalmente\n",
    "\n",
    "for cont in range(0, len(lanche)): # para saber o índice do elemento pode-se apenas usar a variavel 'cont' dentro do for no print\n",
    "    print(f'hoje eu vou comer {lanche[cont]}')"
   ]
  },
  {
   "cell_type": "code",
   "execution_count": 11,
   "metadata": {},
   "outputs": [
    {
     "name": "stdout",
     "output_type": "stream",
     "text": [
      "hoje eu vou comer hamburguer\n",
      "hoje eu vou comer suco\n",
      "hoje eu vou comer pizza\n",
      "hoje eu vou comer pudim\n",
      "hoje eu vou comer batata frita\n"
     ]
    }
   ],
   "source": [
    "for comida in lanche:\n",
    "    print(f'hoje eu vou comer {comida}')"
   ]
  },
  {
   "cell_type": "code",
   "execution_count": 12,
   "metadata": {},
   "outputs": [
    {
     "name": "stdout",
     "output_type": "stream",
     "text": [
      "hoje eu vou comer hamburguer na posição 1\n",
      "hoje eu vou comer suco na posição 2\n",
      "hoje eu vou comer pizza na posição 3\n",
      "hoje eu vou comer pudim na posição 4\n",
      "hoje eu vou comer batata frita na posição 5\n"
     ]
    }
   ],
   "source": [
    "for pos, comida in enumerate(lanche): # para saber o índice do elemento pode-se usar enumerate, dai cria-se uma nova variável dentro do for\n",
    "    print(f'hoje eu vou comer {comida} na posição {pos}')"
   ]
  },
  {
   "cell_type": "code",
   "execution_count": 13,
   "metadata": {},
   "outputs": [
    {
     "name": "stdout",
     "output_type": "stream",
     "text": [
      "['batata frita', 'hamburguer', 'pizza', 'pudim', 'suco']\n"
     ]
    }
   ],
   "source": [
    "print(sorted(lanche)) # para organizar em uma lista ordenada"
   ]
  },
  {
   "cell_type": "code",
   "execution_count": 14,
   "metadata": {},
   "outputs": [
    {
     "name": "stdout",
     "output_type": "stream",
     "text": [
      "(2, 5, 4, 5, 8, 1, 2)\n",
      "[1, 2, 2, 4, 5, 5, 8]\n",
      " \n",
      "(5, 8, 1, 2, 2, 5, 4)\n",
      "[1, 2, 2, 4, 5, 5, 8]\n",
      " \n",
      "na tupla c o número 5 aparece 2 vezes\n",
      "na tupla c temos o total de 7 elementos\n"
     ]
    }
   ],
   "source": [
    "a = 2, 5, 4\n",
    "b = 5, 8, 1, 2\n",
    "c = a + b\n",
    "\n",
    "print(c)\n",
    "print(sorted(c))\n",
    "\n",
    "print(' ')\n",
    "c1 = b + a # a oderm faz toda a diferença na hora de printar uma tupla 'não organizada(fora do sorted)'\n",
    "print(c1)\n",
    "print(sorted(c1))\n",
    "\n",
    "print(' ')\n",
    "print(f'na tupla c o número 5 aparece {c.count(5)} vezes') # conta quantos elementos iguais tem em uma lista/tupla\n",
    "print(f'na tupla c temos o total de {len(c)} elementos') # mostra o tamanho total de elementos na lista/tupla"
   ]
  },
  {
   "cell_type": "code",
   "execution_count": 15,
   "metadata": {},
   "outputs": [
    {
     "name": "stdout",
     "output_type": "stream",
     "text": [
      "o número 2 está na posição 3ª posição\n"
     ]
    }
   ],
   "source": [
    "print(f'o número 2 está na posição {c1.index(2)}ª posição') # index mostra em que posição o elemento pedido está na lista/tupla, ele pega a primeira ocorrência do elementos(caso apareça mais de uma vez)"
   ]
  },
  {
   "cell_type": "code",
   "execution_count": 16,
   "metadata": {},
   "outputs": [
    {
     "name": "stdout",
     "output_type": "stream",
     "text": [
      "olá, meu nome é Rodolfo, tenho 32 anos e tenho 1.75m de altura\n"
     ]
    },
    {
     "ename": "NameError",
     "evalue": "name 'pessoa' is not defined",
     "output_type": "error",
     "traceback": [
      "\u001b[1;31m---------------------------------------------------------------------------\u001b[0m",
      "\u001b[1;31mNameError\u001b[0m                                 Traceback (most recent call last)",
      "Cell \u001b[1;32mIn[16], line 5\u001b[0m\n\u001b[0;32m      3\u001b[0m \u001b[39mprint\u001b[39m(\u001b[39mf\u001b[39m\u001b[39m'\u001b[39m\u001b[39molá, meu nome é \u001b[39m\u001b[39m{\u001b[39;00mpessoa[\u001b[39m0\u001b[39m]\u001b[39m}\u001b[39;00m\u001b[39m, tenho \u001b[39m\u001b[39m{\u001b[39;00mpessoa[\u001b[39m1\u001b[39m]\u001b[39m}\u001b[39;00m\u001b[39m anos e tenho \u001b[39m\u001b[39m{\u001b[39;00mpessoa[\u001b[39m3\u001b[39m]\u001b[39m}\u001b[39;00m\u001b[39mm de altura\u001b[39m\u001b[39m'\u001b[39m)\n\u001b[0;32m      4\u001b[0m \u001b[39mdel\u001b[39;00m(pessoa) \u001b[39m# comando para apagar a tupla inteira\u001b[39;00m\n\u001b[1;32m----> 5\u001b[0m \u001b[39mprint\u001b[39m(pessoa)\n",
      "\u001b[1;31mNameError\u001b[0m: name 'pessoa' is not defined"
     ]
    }
   ],
   "source": [
    "pessoa = 'Rodolfo', 32, 'm', 1.75\n",
    "\n",
    "print(f'olá, meu nome é {pessoa[0]}, tenho {pessoa[1]} anos e tenho {pessoa[3]}m de altura')\n",
    "del(pessoa) # comando para apagar a tupla inteira\n",
    "print(pessoa)"
   ]
  }
 ],
 "metadata": {
  "kernelspec": {
   "display_name": "Python 3",
   "language": "python",
   "name": "python3"
  },
  "language_info": {
   "codemirror_mode": {
    "name": "ipython",
    "version": 3
   },
   "file_extension": ".py",
   "mimetype": "text/x-python",
   "name": "python",
   "nbconvert_exporter": "python",
   "pygments_lexer": "ipython3",
   "version": "3.11.2"
  },
  "orig_nbformat": 4
 },
 "nbformat": 4,
 "nbformat_minor": 2
}
